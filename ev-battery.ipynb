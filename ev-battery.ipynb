{
 "cells": [
  {
   "cell_type": "markdown",
   "metadata": {},
   "source": [
    "# Reverse Engineering Electric Vehicle Battery Components"
   ]
  },
  {
   "cell_type": "code",
   "execution_count": 1,
   "metadata": {},
   "outputs": [],
   "source": [
    "import pandas as pd\n",
    "import numpy as np\n",
    "import matplotlib.pyplot as plt\n",
    "import seaborn as sns\n",
    "from sklearn.preprocessing import MinMaxScaler\n",
    "from keras.models import Sequential\n",
    "from keras.layers import Dense, LSTM\n",
    "import math\n",
    "%matplotlib inline"
   ]
  },
  {
   "cell_type": "markdown",
   "metadata": {},
   "source": [
    "## First Principle Analysis of Battery Components\n",
    "\n",
    "- Cobalt\n",
    "- Nickel\n",
    "- Lithium\n",
    "- Carbon\n",
    "- Separation Polymer\n",
    "- Seal Can"
   ]
  },
  {
   "cell_type": "markdown",
   "metadata": {},
   "source": [
    "#### Finding Dataset\n",
    "\n",
    "__KNOWN__  : Tesla Stock Price\n",
    "__UNKNOWN__: Mineral Costs\n",
    "\n",
    "Since mineral data can only be bought, I have used the following technique to associate each mineral with tesla stock price.\n",
    "\n"
   ]
  },
  {
   "cell_type": "markdown",
   "metadata": {},
   "source": [
    "---\n",
    "## Battery Chemistry\n",
    "\n",
    "\n",
    "Weight of Tesla Battery = 500kg\n",
    "\n",
    "They use NCA (Nickel Cobalt Aluminum-Oxide)\n",
    "\n",
    "```\n",
    "Weight of Seal Can      = 200kg (40%)\n",
    "Weight of Aluminum      = 100kg (20%)\n",
    "Weight of Cobalt        = 028kg (14%)\n",
    "Weight of Nickel        = 150kg (75%)\n",
    "Weight of Lithium       = 022kg (11%)\n",
    "```"
   ]
  },
  {
   "cell_type": "markdown",
   "metadata": {},
   "source": [
    "---\n",
    "## Cost Price Analysis\n",
    "\n",
    "```\n",
    "Avg Car = 2000kg (Tesla Model S has be taken for reference)\n",
    "Battery = 0500kg\n",
    "\n",
    "Battery = 25% of Car -- (1)\n",
    "\n",
    "Tesla Car Price = $100,000 (Tesla Model S)\n",
    "\n",
    "Average Tesla Share Price (2022) = $1,000\n",
    "Which tells us,\n",
    "Tesla Car = 100 Tesla Shares\n",
    "\n",
    "from (1)\n",
    "Battery = $25,000 or 25 Tesla Shares\n",
    "\n",
    "From previous metrics of Battery Chemistry,\n",
    "\n",
    "Seal Can   = 10.00 Shares\n",
    "Aluminum   = 05.00 Shares\n",
    "Cobalt     = 03.50 Shares\n",
    "Nickel     = 18.75 Shares\n",
    "Lithium    = 02.75 Shares\n",
    "```"
   ]
  },
  {
   "cell_type": "code",
   "execution_count": 2,
   "metadata": {},
   "outputs": [
    {
     "name": "stdout",
     "output_type": "stream",
     "text": [
      "<class 'pandas.core.frame.DataFrame'>\n",
      "RangeIndex: 3017 entries, 0 to 3016\n",
      "Data columns (total 7 columns):\n",
      " #   Column     Non-Null Count  Dtype  \n",
      "---  ------     --------------  -----  \n",
      " 0   Date       3017 non-null   object \n",
      " 1   Open       3017 non-null   float64\n",
      " 2   High       3017 non-null   float64\n",
      " 3   Low        3017 non-null   float64\n",
      " 4   Close      3017 non-null   float64\n",
      " 5   Adj Close  3017 non-null   float64\n",
      " 6   Volume     3017 non-null   int64  \n",
      "dtypes: float64(5), int64(1), object(1)\n",
      "memory usage: 165.1+ KB\n"
     ]
    }
   ],
   "source": [
    "df = pd.read_csv('data/TeslaDailyStockPrice.csv')\n",
    "df.info()"
   ]
  },
  {
   "cell_type": "code",
   "execution_count": 3,
   "metadata": {},
   "outputs": [
    {
     "data": {
      "text/plain": [
       "Date         False\n",
       "Open         False\n",
       "High         False\n",
       "Low          False\n",
       "Close        False\n",
       "Adj Close    False\n",
       "Volume       False\n",
       "dtype: bool"
      ]
     },
     "execution_count": 3,
     "metadata": {},
     "output_type": "execute_result"
    }
   ],
   "source": [
    "df.isna().any()"
   ]
  },
  {
   "cell_type": "code",
   "execution_count": 4,
   "metadata": {},
   "outputs": [
    {
     "data": {
      "text/html": [
       "<div>\n",
       "<style scoped>\n",
       "    .dataframe tbody tr th:only-of-type {\n",
       "        vertical-align: middle;\n",
       "    }\n",
       "\n",
       "    .dataframe tbody tr th {\n",
       "        vertical-align: top;\n",
       "    }\n",
       "\n",
       "    .dataframe thead th {\n",
       "        text-align: right;\n",
       "    }\n",
       "</style>\n",
       "<table border=\"1\" class=\"dataframe\">\n",
       "  <thead>\n",
       "    <tr style=\"text-align: right;\">\n",
       "      <th></th>\n",
       "      <th>Open</th>\n",
       "      <th>High</th>\n",
       "      <th>Low</th>\n",
       "      <th>Close</th>\n",
       "      <th>Adj Close</th>\n",
       "      <th>Volume</th>\n",
       "    </tr>\n",
       "    <tr>\n",
       "      <th>Date</th>\n",
       "      <th></th>\n",
       "      <th></th>\n",
       "      <th></th>\n",
       "      <th></th>\n",
       "      <th></th>\n",
       "      <th></th>\n",
       "    </tr>\n",
       "  </thead>\n",
       "  <tbody>\n",
       "    <tr>\n",
       "      <th>2010-06-29</th>\n",
       "      <td>3.800</td>\n",
       "      <td>5.000</td>\n",
       "      <td>3.508</td>\n",
       "      <td>4.778</td>\n",
       "      <td>4.778</td>\n",
       "      <td>93831500</td>\n",
       "    </tr>\n",
       "    <tr>\n",
       "      <th>2010-06-30</th>\n",
       "      <td>5.158</td>\n",
       "      <td>6.084</td>\n",
       "      <td>4.660</td>\n",
       "      <td>4.766</td>\n",
       "      <td>4.766</td>\n",
       "      <td>85935500</td>\n",
       "    </tr>\n",
       "    <tr>\n",
       "      <th>2010-07-01</th>\n",
       "      <td>5.000</td>\n",
       "      <td>5.184</td>\n",
       "      <td>4.054</td>\n",
       "      <td>4.392</td>\n",
       "      <td>4.392</td>\n",
       "      <td>41094000</td>\n",
       "    </tr>\n",
       "    <tr>\n",
       "      <th>2010-07-02</th>\n",
       "      <td>4.600</td>\n",
       "      <td>4.620</td>\n",
       "      <td>3.742</td>\n",
       "      <td>3.840</td>\n",
       "      <td>3.840</td>\n",
       "      <td>25699000</td>\n",
       "    </tr>\n",
       "    <tr>\n",
       "      <th>2010-07-06</th>\n",
       "      <td>4.000</td>\n",
       "      <td>4.000</td>\n",
       "      <td>3.166</td>\n",
       "      <td>3.222</td>\n",
       "      <td>3.222</td>\n",
       "      <td>34334500</td>\n",
       "    </tr>\n",
       "  </tbody>\n",
       "</table>\n",
       "</div>"
      ],
      "text/plain": [
       "             Open   High    Low  Close  Adj Close    Volume\n",
       "Date                                                       \n",
       "2010-06-29  3.800  5.000  3.508  4.778      4.778  93831500\n",
       "2010-06-30  5.158  6.084  4.660  4.766      4.766  85935500\n",
       "2010-07-01  5.000  5.184  4.054  4.392      4.392  41094000\n",
       "2010-07-02  4.600  4.620  3.742  3.840      3.840  25699000\n",
       "2010-07-06  4.000  4.000  3.166  3.222      3.222  34334500"
      ]
     },
     "execution_count": 4,
     "metadata": {},
     "output_type": "execute_result"
    }
   ],
   "source": [
    "df['Date'] = pd.to_datetime(df['Date'])\n",
    "df.set_index('Date',inplace=True)\n",
    "df.head()"
   ]
  },
  {
   "cell_type": "code",
   "execution_count": 5,
   "metadata": {},
   "outputs": [
    {
     "data": {
      "text/plain": [
       "Open         7.035100e+02\n",
       "High         7.405000e+02\n",
       "Low          7.014800e+02\n",
       "Close        7.082600e+02\n",
       "Adj Close    7.082600e+02\n",
       "Volume       3.370250e+07\n",
       "Name: 2022-06-22 00:00:00, dtype: float64"
      ]
     },
     "execution_count": 5,
     "metadata": {},
     "output_type": "execute_result"
    }
   ],
   "source": [
    "df.iloc[-1]"
   ]
  },
  {
   "cell_type": "code",
   "execution_count": 6,
   "metadata": {},
   "outputs": [
    {
     "data": {
      "text/html": [
       "<div>\n",
       "<style scoped>\n",
       "    .dataframe tbody tr th:only-of-type {\n",
       "        vertical-align: middle;\n",
       "    }\n",
       "\n",
       "    .dataframe tbody tr th {\n",
       "        vertical-align: top;\n",
       "    }\n",
       "\n",
       "    .dataframe thead th {\n",
       "        text-align: right;\n",
       "    }\n",
       "</style>\n",
       "<table border=\"1\" class=\"dataframe\">\n",
       "  <thead>\n",
       "    <tr style=\"text-align: right;\">\n",
       "      <th></th>\n",
       "      <th>Close</th>\n",
       "      <th>Volume</th>\n",
       "    </tr>\n",
       "    <tr>\n",
       "      <th>Date</th>\n",
       "      <th></th>\n",
       "      <th></th>\n",
       "    </tr>\n",
       "  </thead>\n",
       "  <tbody>\n",
       "    <tr>\n",
       "      <th>2010-06-29</th>\n",
       "      <td>4.778</td>\n",
       "      <td>93831500</td>\n",
       "    </tr>\n",
       "    <tr>\n",
       "      <th>2010-06-30</th>\n",
       "      <td>4.766</td>\n",
       "      <td>85935500</td>\n",
       "    </tr>\n",
       "    <tr>\n",
       "      <th>2010-07-01</th>\n",
       "      <td>4.392</td>\n",
       "      <td>41094000</td>\n",
       "    </tr>\n",
       "    <tr>\n",
       "      <th>2010-07-02</th>\n",
       "      <td>3.840</td>\n",
       "      <td>25699000</td>\n",
       "    </tr>\n",
       "    <tr>\n",
       "      <th>2010-07-06</th>\n",
       "      <td>3.222</td>\n",
       "      <td>34334500</td>\n",
       "    </tr>\n",
       "  </tbody>\n",
       "</table>\n",
       "</div>"
      ],
      "text/plain": [
       "            Close    Volume\n",
       "Date                       \n",
       "2010-06-29  4.778  93831500\n",
       "2010-06-30  4.766  85935500\n",
       "2010-07-01  4.392  41094000\n",
       "2010-07-02  3.840  25699000\n",
       "2010-07-06  3.222  34334500"
      ]
     },
     "execution_count": 6,
     "metadata": {},
     "output_type": "execute_result"
    }
   ],
   "source": [
    "df.drop(['Open', 'High', 'Low', 'Adj Close'], inplace=True, axis=1)\n",
    "df.head()"
   ]
  },
  {
   "cell_type": "code",
   "execution_count": 7,
   "metadata": {},
   "outputs": [
    {
     "data": {
      "text/html": [
       "<div>\n",
       "<style scoped>\n",
       "    .dataframe tbody tr th:only-of-type {\n",
       "        vertical-align: middle;\n",
       "    }\n",
       "\n",
       "    .dataframe tbody tr th {\n",
       "        vertical-align: top;\n",
       "    }\n",
       "\n",
       "    .dataframe thead th {\n",
       "        text-align: right;\n",
       "    }\n",
       "</style>\n",
       "<table border=\"1\" class=\"dataframe\">\n",
       "  <thead>\n",
       "    <tr style=\"text-align: right;\">\n",
       "      <th></th>\n",
       "      <th>Close</th>\n",
       "      <th>Volume</th>\n",
       "    </tr>\n",
       "    <tr>\n",
       "      <th>Date</th>\n",
       "      <th></th>\n",
       "      <th></th>\n",
       "    </tr>\n",
       "  </thead>\n",
       "  <tbody>\n",
       "    <tr>\n",
       "      <th>2022-06-15</th>\n",
       "      <td>699.000000</td>\n",
       "      <td>39710600</td>\n",
       "    </tr>\n",
       "    <tr>\n",
       "      <th>2022-06-16</th>\n",
       "      <td>639.299988</td>\n",
       "      <td>35796900</td>\n",
       "    </tr>\n",
       "    <tr>\n",
       "      <th>2022-06-17</th>\n",
       "      <td>650.280029</td>\n",
       "      <td>30810900</td>\n",
       "    </tr>\n",
       "    <tr>\n",
       "      <th>2022-06-21</th>\n",
       "      <td>711.109985</td>\n",
       "      <td>40931000</td>\n",
       "    </tr>\n",
       "    <tr>\n",
       "      <th>2022-06-22</th>\n",
       "      <td>708.260010</td>\n",
       "      <td>33702500</td>\n",
       "    </tr>\n",
       "  </tbody>\n",
       "</table>\n",
       "</div>"
      ],
      "text/plain": [
       "                 Close    Volume\n",
       "Date                            \n",
       "2022-06-15  699.000000  39710600\n",
       "2022-06-16  639.299988  35796900\n",
       "2022-06-17  650.280029  30810900\n",
       "2022-06-21  711.109985  40931000\n",
       "2022-06-22  708.260010  33702500"
      ]
     },
     "execution_count": 7,
     "metadata": {},
     "output_type": "execute_result"
    }
   ],
   "source": [
    "df.tail()"
   ]
  },
  {
   "cell_type": "code",
   "execution_count": 8,
   "metadata": {},
   "outputs": [],
   "source": [
    "sns.set_style('darkgrid')"
   ]
  },
  {
   "cell_type": "code",
   "execution_count": 9,
   "metadata": {},
   "outputs": [
    {
     "data": {
      "image/png": "[encoded data removed]",
      "text/plain": [
       "<Figure size 432x288 with 1 Axes>"
      ]
     },
     "metadata": {},
     "output_type": "display_data"
    }
   ],
   "source": [
    "plt.plot(df.Close)\n",
    "plt.ylabel('Price')\n",
    "plt.show()"
   ]
  },
  {
   "cell_type": "code",
   "execution_count": 10,
   "metadata": {},
   "outputs": [
    {
     "data": {
      "image/png": "[encoded data removed]",
      "text/plain": [
       "<Figure size 432x288 with 1 Axes>"
      ]
     },
     "metadata": {},
     "output_type": "display_data"
    }
   ],
   "source": [
    "# In the last three years\n",
    "plt.plot(df.iloc[-1080:].Close)\n",
    "plt.ylabel('Price')\n",
    "plt.show()"
   ]
  },
  {
   "cell_type": "code",
   "execution_count": 11,
   "metadata": {},
   "outputs": [
    {
     "data": {
      "image/png": "[encoded data removed]",
      "text/plain": [
       "<Figure size 432x288 with 1 Axes>"
      ]
     },
     "metadata": {},
     "output_type": "display_data"
    }
   ],
   "source": [
    "# This year\n",
    "plt.plot(df.iloc[-360:].Close)\n",
    "plt.ylabel('Price')\n",
    "plt.show()"
   ]
  },
  {
   "cell_type": "markdown",
   "metadata": {},
   "source": [
    "### Creating Labels for Cobalt, Nickel and Lithium"
   ]
  },
  {
   "cell_type": "code",
   "execution_count": 12,
   "metadata": {},
   "outputs": [],
   "source": [
    "df['Cobalt'] = df.Close * 3.5\n",
    "df['Nickel'] = df.Close * 18.75\n",
    "df['Lithium'] = df.Close * 2.75"
   ]
  },
  {
   "cell_type": "code",
   "execution_count": 13,
   "metadata": {},
   "outputs": [
    {
     "data": {
      "text/html": [
       "<div>\n",
       "<style scoped>\n",
       "    .dataframe tbody tr th:only-of-type {\n",
       "        vertical-align: middle;\n",
       "    }\n",
       "\n",
       "    .dataframe tbody tr th {\n",
       "        vertical-align: top;\n",
       "    }\n",
       "\n",
       "    .dataframe thead th {\n",
       "        text-align: right;\n",
       "    }\n",
       "</style>\n",
       "<table border=\"1\" class=\"dataframe\">\n",
       "  <thead>\n",
       "    <tr style=\"text-align: right;\">\n",
       "      <th></th>\n",
       "      <th>Close</th>\n",
       "      <th>Volume</th>\n",
       "      <th>Cobalt</th>\n",
       "      <th>Nickel</th>\n",
       "      <th>Lithium</th>\n",
       "    </tr>\n",
       "    <tr>\n",
       "      <th>Date</th>\n",
       "      <th></th>\n",
       "      <th></th>\n",
       "      <th></th>\n",
       "      <th></th>\n",
       "      <th></th>\n",
       "    </tr>\n",
       "  </thead>\n",
       "  <tbody>\n",
       "    <tr>\n",
       "      <th>2010-06-29</th>\n",
       "      <td>4.778</td>\n",
       "      <td>93831500</td>\n",
       "      <td>16.723</td>\n",
       "      <td>89.5875</td>\n",
       "      <td>13.1395</td>\n",
       "    </tr>\n",
       "    <tr>\n",
       "      <th>2010-06-30</th>\n",
       "      <td>4.766</td>\n",
       "      <td>85935500</td>\n",
       "      <td>16.681</td>\n",
       "      <td>89.3625</td>\n",
       "      <td>13.1065</td>\n",
       "    </tr>\n",
       "    <tr>\n",
       "      <th>2010-07-01</th>\n",
       "      <td>4.392</td>\n",
       "      <td>41094000</td>\n",
       "      <td>15.372</td>\n",
       "      <td>82.3500</td>\n",
       "      <td>12.0780</td>\n",
       "    </tr>\n",
       "    <tr>\n",
       "      <th>2010-07-02</th>\n",
       "      <td>3.840</td>\n",
       "      <td>25699000</td>\n",
       "      <td>13.440</td>\n",
       "      <td>72.0000</td>\n",
       "      <td>10.5600</td>\n",
       "    </tr>\n",
       "    <tr>\n",
       "      <th>2010-07-06</th>\n",
       "      <td>3.222</td>\n",
       "      <td>34334500</td>\n",
       "      <td>11.277</td>\n",
       "      <td>60.4125</td>\n",
       "      <td>8.8605</td>\n",
       "    </tr>\n",
       "  </tbody>\n",
       "</table>\n",
       "</div>"
      ],
      "text/plain": [
       "            Close    Volume  Cobalt   Nickel  Lithium\n",
       "Date                                                 \n",
       "2010-06-29  4.778  93831500  16.723  89.5875  13.1395\n",
       "2010-06-30  4.766  85935500  16.681  89.3625  13.1065\n",
       "2010-07-01  4.392  41094000  15.372  82.3500  12.0780\n",
       "2010-07-02  3.840  25699000  13.440  72.0000  10.5600\n",
       "2010-07-06  3.222  34334500  11.277  60.4125   8.8605"
      ]
     },
     "execution_count": 13,
     "metadata": {},
     "output_type": "execute_result"
    }
   ],
   "source": [
    "df.head()"
   ]
  },
  {
   "cell_type": "code",
   "execution_count": 14,
   "metadata": {},
   "outputs": [
    {
     "data": {
      "text/html": [
       "<div>\n",
       "<style scoped>\n",
       "    .dataframe tbody tr th:only-of-type {\n",
       "        vertical-align: middle;\n",
       "    }\n",
       "\n",
       "    .dataframe tbody tr th {\n",
       "        vertical-align: top;\n",
       "    }\n",
       "\n",
       "    .dataframe thead th {\n",
       "        text-align: right;\n",
       "    }\n",
       "</style>\n",
       "<table border=\"1\" class=\"dataframe\">\n",
       "  <thead>\n",
       "    <tr style=\"text-align: right;\">\n",
       "      <th></th>\n",
       "      <th>Close</th>\n",
       "      <th>Volume</th>\n",
       "      <th>Cobalt</th>\n",
       "      <th>Nickel</th>\n",
       "      <th>Lithium</th>\n",
       "    </tr>\n",
       "    <tr>\n",
       "      <th>Date</th>\n",
       "      <th></th>\n",
       "      <th></th>\n",
       "      <th></th>\n",
       "      <th></th>\n",
       "      <th></th>\n",
       "    </tr>\n",
       "  </thead>\n",
       "  <tbody>\n",
       "    <tr>\n",
       "      <th>2022-06-15</th>\n",
       "      <td>699.000000</td>\n",
       "      <td>39710600</td>\n",
       "      <td>2446.500000</td>\n",
       "      <td>13106.250000</td>\n",
       "      <td>1922.250000</td>\n",
       "    </tr>\n",
       "    <tr>\n",
       "      <th>2022-06-16</th>\n",
       "      <td>639.299988</td>\n",
       "      <td>35796900</td>\n",
       "      <td>2237.549958</td>\n",
       "      <td>11986.874775</td>\n",
       "      <td>1758.074967</td>\n",
       "    </tr>\n",
       "    <tr>\n",
       "      <th>2022-06-17</th>\n",
       "      <td>650.280029</td>\n",
       "      <td>30810900</td>\n",
       "      <td>2275.980102</td>\n",
       "      <td>12192.750544</td>\n",
       "      <td>1788.270080</td>\n",
       "    </tr>\n",
       "    <tr>\n",
       "      <th>2022-06-21</th>\n",
       "      <td>711.109985</td>\n",
       "      <td>40931000</td>\n",
       "      <td>2488.884948</td>\n",
       "      <td>13333.312219</td>\n",
       "      <td>1955.552459</td>\n",
       "    </tr>\n",
       "    <tr>\n",
       "      <th>2022-06-22</th>\n",
       "      <td>708.260010</td>\n",
       "      <td>33702500</td>\n",
       "      <td>2478.910035</td>\n",
       "      <td>13279.875187</td>\n",
       "      <td>1947.715027</td>\n",
       "    </tr>\n",
       "  </tbody>\n",
       "</table>\n",
       "</div>"
      ],
      "text/plain": [
       "                 Close    Volume       Cobalt        Nickel      Lithium\n",
       "Date                                                                    \n",
       "2022-06-15  699.000000  39710600  2446.500000  13106.250000  1922.250000\n",
       "2022-06-16  639.299988  35796900  2237.549958  11986.874775  1758.074967\n",
       "2022-06-17  650.280029  30810900  2275.980102  12192.750544  1788.270080\n",
       "2022-06-21  711.109985  40931000  2488.884948  13333.312219  1955.552459\n",
       "2022-06-22  708.260010  33702500  2478.910035  13279.875187  1947.715027"
      ]
     },
     "execution_count": 14,
     "metadata": {},
     "output_type": "execute_result"
    }
   ],
   "source": [
    "df.tail()"
   ]
  },
  {
   "cell_type": "markdown",
   "metadata": {},
   "source": [
    "### Predicting Tesla Stock"
   ]
  },
  {
   "cell_type": "code",
   "execution_count": 15,
   "metadata": {},
   "outputs": [
    {
     "data": {
      "image/png": "[encoded data removed]",
      "text/plain": [
       "<Figure size 1152x576 with 1 Axes>"
      ]
     },
     "metadata": {},
     "output_type": "display_data"
    }
   ],
   "source": [
    "plt.figure(figsize=(16,8))\n",
    "plt.title('Close Price History')\n",
    "plt.plot(df['Close'], color='red')\n",
    "plt.xlabel('Date', fontsize=18)\n",
    "plt.ylabel('Close Price USD', fontsize = 18)\n",
    "plt.show()"
   ]
  },
  {
   "cell_type": "code",
   "execution_count": 16,
   "metadata": {},
   "outputs": [
    {
     "data": {
      "text/plain": [
       "2414"
      ]
     },
     "execution_count": 16,
     "metadata": {},
     "output_type": "execute_result"
    }
   ],
   "source": [
    "data = df.filter(['Close'])\n",
    "dataset = data.values\n",
    "training_data_len = math.ceil(len(dataset)*.8)\n",
    "training_data_len"
   ]
  },
  {
   "cell_type": "code",
   "execution_count": 17,
   "metadata": {},
   "outputs": [
    {
     "data": {
      "text/plain": [
       "array([[0.00131893],\n",
       "       [0.00130915],\n",
       "       [0.00100428],\n",
       "       ...,\n",
       "       [0.52750765],\n",
       "       [0.57709392],\n",
       "       [0.57477073]])"
      ]
     },
     "execution_count": 17,
     "metadata": {},
     "output_type": "execute_result"
    }
   ],
   "source": [
    "scaler = MinMaxScaler(feature_range=(0,1))\n",
    "scaled_data = scaler.fit_transform(dataset)\n",
    "scaled_data"
   ]
  },
  {
   "cell_type": "code",
   "execution_count": 18,
   "metadata": {},
   "outputs": [],
   "source": [
    "# Train Data Split\n",
    "train_data = scaled_data[0:training_data_len, :]\n",
    "\n",
    "x_train = []\n",
    "y_train = []\n",
    "\n",
    "for i in range(60, len(train_data)):\n",
    "    x_train.append(train_data[i-60:i, 0])\n",
    "    y_train.append(train_data[i,0])\n",
    "\n",
    "# Test Data Split\n",
    "test_data= scaled_data[training_data_len-60:, :]\n",
    "\n",
    "x_test = []\n",
    "y_test = dataset[training_data_len:,:]\n",
    "\n",
    "for i in range(60,len(test_data)):\n",
    "    x_test.append(test_data[i-60:i,0])"
   ]
  },
  {
   "cell_type": "code",
   "execution_count": 19,
   "metadata": {},
   "outputs": [],
   "source": [
    "x_train,y_train = np.array(x_train), np.array(y_train)"
   ]
  },
  {
   "cell_type": "code",
   "execution_count": 20,
   "metadata": {},
   "outputs": [
    {
     "data": {
      "text/plain": [
       "(2354, 60, 1)"
      ]
     },
     "execution_count": 20,
     "metadata": {},
     "output_type": "execute_result"
    }
   ],
   "source": [
    "x_train = np.reshape(x_train,(x_train.shape[0],x_train.shape[1],1))\n",
    "x_train.shape"
   ]
  },
  {
   "cell_type": "code",
   "execution_count": 21,
   "metadata": {},
   "outputs": [],
   "source": [
    "model =Sequential()\n",
    "model.add(LSTM(64,return_sequences=True, input_shape=(x_train.shape[1],1)))\n",
    "model.add(LSTM(64, return_sequences= False))\n",
    "model.add(Dense(32))\n",
    "model.add(Dense(1))"
   ]
  },
  {
   "cell_type": "code",
   "execution_count": 22,
   "metadata": {},
   "outputs": [
    {
     "name": "stdout",
     "output_type": "stream",
     "text": [
      "Epoch 1/10\n",
      "2354/2354 [==============================] - 46s 18ms/step - loss: 1.9984e-05\n",
      "Epoch 2/10\n",
      "2354/2354 [==============================] - 46s 20ms/step - loss: 1.0512e-05\n",
      "Epoch 3/10\n",
      "2354/2354 [==============================] - 51s 22ms/step - loss: 7.8865e-06\n",
      "Epoch 4/10\n",
      "2354/2354 [==============================] - 48s 20ms/step - loss: 6.1977e-06\n",
      "Epoch 5/10\n",
      "2354/2354 [==============================] - 52s 22ms/step - loss: 5.6361e-06\n",
      "Epoch 6/10\n",
      "2354/2354 [==============================] - 53s 22ms/step - loss: 4.4523e-06\n",
      "Epoch 7/10\n",
      "2354/2354 [==============================] - 56s 24ms/step - loss: 5.3194e-06\n",
      "Epoch 8/10\n",
      "2354/2354 [==============================] - 59s 25ms/step - loss: 4.4630e-06\n",
      "Epoch 9/10\n",
      "2354/2354 [==============================] - 55s 23ms/step - loss: 3.5993e-06\n",
      "Epoch 10/10\n",
      "2354/2354 [==============================] - 59s 25ms/step - loss: 3.3714e-06\n"
     ]
    },
    {
     "data": {
      "text/plain": [
       "<keras.callbacks.History at 0x1e5b13c1de0>"
      ]
     },
     "execution_count": 22,
     "metadata": {},
     "output_type": "execute_result"
    }
   ],
   "source": [
    "model.compile(optimizer='adam', loss='mean_squared_error')\n",
    "model.fit(x_train,y_train, batch_size=1, epochs=10)"
   ]
  },
  {
   "cell_type": "code",
   "execution_count": 23,
   "metadata": {},
   "outputs": [
    {
     "data": {
      "text/plain": [
       "(603, 60, 1)"
      ]
     },
     "execution_count": 23,
     "metadata": {},
     "output_type": "execute_result"
    }
   ],
   "source": [
    "x_test = np.array(x_test)\n",
    "x_test = np.reshape(x_test, (x_test.shape[0], x_test.shape[1],1))\n",
    "x_test.shape"
   ]
  },
  {
   "cell_type": "code",
   "execution_count": 24,
   "metadata": {},
   "outputs": [
    {
     "name": "stdout",
     "output_type": "stream",
     "text": [
      "19/19 [==============================] - 1s 14ms/step\n"
     ]
    }
   ],
   "source": [
    "predictions = model.predict(x_test)\n",
    "predictions = scaler.inverse_transform(predictions)"
   ]
  },
  {
   "cell_type": "code",
   "execution_count": 25,
   "metadata": {},
   "outputs": [
    {
     "data": {
      "text/plain": [
       "6.9100084881039106"
      ]
     },
     "execution_count": 25,
     "metadata": {},
     "output_type": "execute_result"
    }
   ],
   "source": [
    "rmse = np.sqrt(np.mean(predictions - y_test)**2)\n",
    "rmse"
   ]
  },
  {
   "cell_type": "code",
   "execution_count": 27,
   "metadata": {},
   "outputs": [
    {
     "name": "stderr",
     "output_type": "stream",
     "text": [
      "C:\\Users\\leo-d\\AppData\\Local\\Temp\\ipykernel_19516\\288518054.py:3: SettingWithCopyWarning: \n",
      "A value is trying to be set on a copy of a slice from a DataFrame.\n",
      "Try using .loc[row_indexer,col_indexer] = value instead\n",
      "\n",
      "See the caveats in the documentation: https://pandas.pydata.org/pandas-docs/stable/user_guide/indexing.html#returning-a-view-versus-a-copy\n",
      "  valid['Predictions'] = predictions\n"
     ]
    },
    {
     "data": {
      "text/plain": [
       "<matplotlib.legend.Legend at 0x1e5bcb71270>"
      ]
     },
     "execution_count": 27,
     "metadata": {},
     "output_type": "execute_result"
    },
    {
     "data": {
      "image/png": "[encoded data removed]",
      "text/plain": [
       "<Figure size 1152x576 with 1 Axes>"
      ]
     },
     "metadata": {},
     "output_type": "display_data"
    }
   ],
   "source": [
    "train = data[:training_data_len]\n",
    "valid = data[training_data_len:]\n",
    "valid['Predictions'] = predictions\n",
    "\n",
    "plt.figure(figsize=(16,8))\n",
    "plt.title('Model')\n",
    "plt.xlabel('Date', fontsize=18)\n",
    "plt.ylabel('Close Price' ,fontsize=18)\n",
    "plt.plot(train['Close'],linewidth=3.5)\n",
    "plt.plot(valid[['Close','Predictions']],linewidth=3.5)\n",
    "plt.legend(['Train','Valid','Predictions'], loc='upper center')"
   ]
  },
  {
   "cell_type": "code",
   "execution_count": 29,
   "metadata": {},
   "outputs": [
    {
     "data": {
      "text/plain": [
       "Date\n",
       "2020-01-31    131.960022\n",
       "2020-02-03    133.510559\n",
       "2020-02-04    161.103424\n",
       "2020-02-05    182.384354\n",
       "2020-02-06    150.292801\n",
       "                 ...    \n",
       "2022-06-15    676.308472\n",
       "2022-06-16    708.639648\n",
       "2022-06-17    656.458008\n",
       "2022-06-21    663.389038\n",
       "2022-06-22    717.439819\n",
       "Name: Predictions, Length: 603, dtype: float32"
      ]
     },
     "execution_count": 29,
     "metadata": {},
     "output_type": "execute_result"
    }
   ],
   "source": [
    "valid['Predictions']"
   ]
  },
  {
   "cell_type": "code",
   "execution_count": 30,
   "metadata": {},
   "outputs": [
    {
     "data": {
      "text/html": [
       "<div>\n",
       "<style scoped>\n",
       "    .dataframe tbody tr th:only-of-type {\n",
       "        vertical-align: middle;\n",
       "    }\n",
       "\n",
       "    .dataframe tbody tr th {\n",
       "        vertical-align: top;\n",
       "    }\n",
       "\n",
       "    .dataframe thead th {\n",
       "        text-align: right;\n",
       "    }\n",
       "</style>\n",
       "<table border=\"1\" class=\"dataframe\">\n",
       "  <thead>\n",
       "    <tr style=\"text-align: right;\">\n",
       "      <th></th>\n",
       "      <th>Close</th>\n",
       "      <th>Predictions</th>\n",
       "    </tr>\n",
       "    <tr>\n",
       "      <th>Date</th>\n",
       "      <th></th>\n",
       "      <th></th>\n",
       "    </tr>\n",
       "  </thead>\n",
       "  <tbody>\n",
       "    <tr>\n",
       "      <th>2020-01-31</th>\n",
       "      <td>130.113998</td>\n",
       "      <td>131.960022</td>\n",
       "    </tr>\n",
       "    <tr>\n",
       "      <th>2020-02-03</th>\n",
       "      <td>156.000000</td>\n",
       "      <td>133.510559</td>\n",
       "    </tr>\n",
       "    <tr>\n",
       "      <th>2020-02-04</th>\n",
       "      <td>177.412003</td>\n",
       "      <td>161.103424</td>\n",
       "    </tr>\n",
       "    <tr>\n",
       "      <th>2020-02-05</th>\n",
       "      <td>146.940002</td>\n",
       "      <td>182.384354</td>\n",
       "    </tr>\n",
       "    <tr>\n",
       "      <th>2020-02-06</th>\n",
       "      <td>149.792007</td>\n",
       "      <td>150.292801</td>\n",
       "    </tr>\n",
       "  </tbody>\n",
       "</table>\n",
       "</div>"
      ],
      "text/plain": [
       "                 Close  Predictions\n",
       "Date                               \n",
       "2020-01-31  130.113998   131.960022\n",
       "2020-02-03  156.000000   133.510559\n",
       "2020-02-04  177.412003   161.103424\n",
       "2020-02-05  146.940002   182.384354\n",
       "2020-02-06  149.792007   150.292801"
      ]
     },
     "execution_count": 30,
     "metadata": {},
     "output_type": "execute_result"
    }
   ],
   "source": [
    "valid.head()"
   ]
  },
  {
   "cell_type": "code",
   "execution_count": 32,
   "metadata": {},
   "outputs": [],
   "source": [
    "results = pd.DataFrame()\n",
    "\n",
    "results['Prediction'] = valid['Predictions']\n",
    "\n",
    "results['Cobalt'] = results.Prediction * 3.5\n",
    "results['Nickel'] = results.Prediction * 18.75\n",
    "results['Lithium'] = results.Prediction * 2.75"
   ]
  },
  {
   "cell_type": "code",
   "execution_count": 33,
   "metadata": {},
   "outputs": [
    {
     "data": {
      "text/html": [
       "<div>\n",
       "<style scoped>\n",
       "    .dataframe tbody tr th:only-of-type {\n",
       "        vertical-align: middle;\n",
       "    }\n",
       "\n",
       "    .dataframe tbody tr th {\n",
       "        vertical-align: top;\n",
       "    }\n",
       "\n",
       "    .dataframe thead th {\n",
       "        text-align: right;\n",
       "    }\n",
       "</style>\n",
       "<table border=\"1\" class=\"dataframe\">\n",
       "  <thead>\n",
       "    <tr style=\"text-align: right;\">\n",
       "      <th></th>\n",
       "      <th>Prediction</th>\n",
       "      <th>Cobalt</th>\n",
       "      <th>Nickel</th>\n",
       "      <th>Lithium</th>\n",
       "    </tr>\n",
       "    <tr>\n",
       "      <th>Date</th>\n",
       "      <th></th>\n",
       "      <th></th>\n",
       "      <th></th>\n",
       "      <th></th>\n",
       "    </tr>\n",
       "  </thead>\n",
       "  <tbody>\n",
       "    <tr>\n",
       "      <th>2020-01-31</th>\n",
       "      <td>131.960022</td>\n",
       "      <td>461.860077</td>\n",
       "      <td>2474.250488</td>\n",
       "      <td>362.890076</td>\n",
       "    </tr>\n",
       "    <tr>\n",
       "      <th>2020-02-03</th>\n",
       "      <td>133.510559</td>\n",
       "      <td>467.286957</td>\n",
       "      <td>2503.322998</td>\n",
       "      <td>367.154053</td>\n",
       "    </tr>\n",
       "    <tr>\n",
       "      <th>2020-02-04</th>\n",
       "      <td>161.103424</td>\n",
       "      <td>563.862000</td>\n",
       "      <td>3020.689209</td>\n",
       "      <td>443.034424</td>\n",
       "    </tr>\n",
       "    <tr>\n",
       "      <th>2020-02-05</th>\n",
       "      <td>182.384354</td>\n",
       "      <td>638.345215</td>\n",
       "      <td>3419.706543</td>\n",
       "      <td>501.556976</td>\n",
       "    </tr>\n",
       "    <tr>\n",
       "      <th>2020-02-06</th>\n",
       "      <td>150.292801</td>\n",
       "      <td>526.024780</td>\n",
       "      <td>2817.989990</td>\n",
       "      <td>413.305206</td>\n",
       "    </tr>\n",
       "  </tbody>\n",
       "</table>\n",
       "</div>"
      ],
      "text/plain": [
       "            Prediction      Cobalt       Nickel     Lithium\n",
       "Date                                                       \n",
       "2020-01-31  131.960022  461.860077  2474.250488  362.890076\n",
       "2020-02-03  133.510559  467.286957  2503.322998  367.154053\n",
       "2020-02-04  161.103424  563.862000  3020.689209  443.034424\n",
       "2020-02-05  182.384354  638.345215  3419.706543  501.556976\n",
       "2020-02-06  150.292801  526.024780  2817.989990  413.305206"
      ]
     },
     "execution_count": 33,
     "metadata": {},
     "output_type": "execute_result"
    }
   ],
   "source": [
    "results.head()"
   ]
  }
 ],
 "metadata": {
  "kernelspec": {
   "display_name": "Python 3.10.1 64-bit",
   "language": "python",
   "name": "python3"
  },
  "language_info": {
   "codemirror_mode": {
    "name": "ipython",
    "version": 3
   },
   "file_extension": ".py",
   "mimetype": "text/x-python",
   "name": "python",
   "nbconvert_exporter": "python",
   "pygments_lexer": "ipython3",
   "version": "3.10.1"
  },
  "orig_nbformat": 4,
  "vscode": {
   "interpreter": {
    "hash": "c261484d86da9e1ad66c3f95813b538b577f514303100c14fb70c50b7ec5cb56"
   }
  }
 },
 "nbformat": 4,
 "nbformat_minor": 2
}
