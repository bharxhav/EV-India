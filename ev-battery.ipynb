{
 "cells": [
  {
   "cell_type": "markdown",
   "metadata": {},
   "source": [
    "# Reverse Engineering Electric Vehicle Battery Components"
   ]
  },
  {
   "cell_type": "code",
   "execution_count": 1,
   "metadata": {},
   "outputs": [],
   "source": [
    "import pandas as pd\n",
    "import matplotlib.pyplot as plt\n",
    "import seaborn as sns\n",
    "%matplotlib inline"
   ]
  },
  {
   "cell_type": "markdown",
   "metadata": {},
   "source": [
    "## First Principle Analysis of Battery Components\n",
    "\n",
    "- Cobalt\n",
    "- Nickel\n",
    "- Lithium\n",
    "- Carbon\n",
    "- Separation Polymer\n",
    "- Seal Can"
   ]
  },
  {
   "cell_type": "markdown",
   "metadata": {},
   "source": [
    "#### Finding Dataset\n",
    "\n",
    "__KNOWN__  : Tesla Stock Price\n",
    "__UNKNOWN__: Mineral Costs\n",
    "\n",
    "Since mineral data can only be bought, I have used the following technique to associate each mineral with tesla stock price.\n",
    "\n"
   ]
  },
  {
   "cell_type": "markdown",
   "metadata": {},
   "source": [
    "---\n",
    "## Battery Chemistry\n",
    "\n",
    "\n",
    "Weight of Tesla Battery = 500kg\n",
    "\n",
    "They use NCA (Nickel Cobalt Aluminum-Oxide)\n",
    "\n",
    "```\n",
    "Weight of Seal Can      = 200kg (40%)\n",
    "Weight of Aluminum      = 100kg (20%)\n",
    "Weight of Cobalt        = 028kg (14%)\n",
    "Weight of Nickel        = 150kg (75%)\n",
    "Weight of Lithium       = 022kg (11%)\n",
    "```"
   ]
  },
  {
   "cell_type": "markdown",
   "metadata": {},
   "source": [
    "---\n",
    "## Cost Price Analysis\n",
    "\n",
    "```\n",
    "Avg Car = 2000kg (Tesla Model S has be taken for reference)\n",
    "Battery = 0500kg\n",
    "\n",
    "Battery = 25% of Car -- (1)\n",
    "\n",
    "Tesla Car Price = $100,000 (Tesla Model S)\n",
    "\n",
    "Average Tesla Share Price (2022) = $1,000\n",
    "Which tells us,\n",
    "Tesla Car = 100 Tesla Shares\n",
    "\n",
    "from (1)\n",
    "Battery = $25,000 or 25 Tesla Shares\n",
    "\n",
    "From previous metrics of Battery Chemistry,\n",
    "\n",
    "Seal Can   = 10.00 Shares\n",
    "Aluminum   = 05.00 Shares\n",
    "Cobalt     = 03.50 Shares\n",
    "Nickel     = 18.75 Shares\n",
    "Lithium    = 02.75 Shares\n",
    "```"
   ]
  },
  {
   "cell_type": "code",
   "execution_count": 2,
   "metadata": {},
   "outputs": [
    {
     "name": "stdout",
     "output_type": "stream",
     "text": [
      "<class 'pandas.core.frame.DataFrame'>\n",
      "RangeIndex: 3017 entries, 0 to 3016\n",
      "Data columns (total 7 columns):\n",
      " #   Column     Non-Null Count  Dtype  \n",
      "---  ------     --------------  -----  \n",
      " 0   Date       3017 non-null   object \n",
      " 1   Open       3017 non-null   float64\n",
      " 2   High       3017 non-null   float64\n",
      " 3   Low        3017 non-null   float64\n",
      " 4   Close      3017 non-null   float64\n",
      " 5   Adj Close  3017 non-null   float64\n",
      " 6   Volume     3017 non-null   int64  \n",
      "dtypes: float64(5), int64(1), object(1)\n",
      "memory usage: 165.1+ KB\n"
     ]
    }
   ],
   "source": [
    "df = pd.read_csv('data/TeslaDailyStockPrice.csv')\n",
    "df.info()"
   ]
  },
  {
   "cell_type": "code",
   "execution_count": 3,
   "metadata": {},
   "outputs": [
    {
     "data": {
      "text/plain": [
       "Date         False\n",
       "Open         False\n",
       "High         False\n",
       "Low          False\n",
       "Close        False\n",
       "Adj Close    False\n",
       "Volume       False\n",
       "dtype: bool"
      ]
     },
     "execution_count": 3,
     "metadata": {},
     "output_type": "execute_result"
    }
   ],
   "source": [
    "df.isna().any()"
   ]
  }
 ],
 "metadata": {
  "kernelspec": {
   "display_name": "Python 3.10.1 64-bit",
   "language": "python",
   "name": "python3"
  },
  "language_info": {
   "codemirror_mode": {
    "name": "ipython",
    "version": 3
   },
   "file_extension": ".py",
   "mimetype": "text/x-python",
   "name": "python",
   "nbconvert_exporter": "python",
   "pygments_lexer": "ipython3",
   "version": "3.10.1"
  },
  "orig_nbformat": 4,
  "vscode": {
   "interpreter": {
    "hash": "c261484d86da9e1ad66c3f95813b538b577f514303100c14fb70c50b7ec5cb56"
   }
  }
 },
 "nbformat": 4,
 "nbformat_minor": 2
}
