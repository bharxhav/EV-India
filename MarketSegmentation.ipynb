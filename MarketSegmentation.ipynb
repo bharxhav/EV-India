{
 "cells": [
  {
   "cell_type": "markdown",
   "id": "624fb8d1",
   "metadata": {},
   "source": [
    "# EV Market Segmentation"
   ]
  },
  {
   "cell_type": "code",
   "execution_count": null,
   "id": "219a94cb",
   "metadata": {},
   "outputs": [],
   "source": [
    "import numpy as np \n",
    "%pip install plotly==5.8.0\n",
    "import pandas as pd\n",
    "import matplotlib.pyplot as plt\n",
    "%matplotlib inline\n",
    "from tqdm import tqdm\n",
    "import seaborn as sb\n",
    "import statsmodels.api as sm\n",
    "import plotly.express as px\n",
    "from google.colab import files\n",
    "%pip install kaleido\n",
    "import kaleido\n",
    "from sklearn.preprocessing import StandardScaler,PowerTransformer\n",
    "from sklearn.decomposition import PCA\n",
    "from scipy.cluster.hierarchy import dendrogram, linkage\n",
    "from sklearn.cluster import KMeans, MeanShift, estimate_bandwidth\n",
    "from sklearn.datasets import make_blobs\n",
    "from yellowbrick.cluster import KElbowVisualizer, SilhouetteVisualizer, InterclusterDistance\n",
    "from collections import Counter\n",
    "from sklearn.model_selection import cross_validate,train_test_split\n",
    "from sklearn.linear_model import LinearRegression,LogisticRegression\n",
    "from sklearn import metrics\n",
    "from sklearn.metrics import r2_score,silhouette_score,confusion_matrix,accuracy_score\n",
    "pd.set_option(\"display.precision\",3)\n",
    "np.set_printoptions(precision=5, suppress=True)\n",
    "pd.options.display.float_format = '{:.4f}'.format\n",
    "import plotly.io as pio\n",
    "\n",
    "pio.renderers.default = \"svg\""
   ]
  },
  {
   "cell_type": "code",
   "execution_count": null,
   "id": "389a6978",
   "metadata": {},
   "outputs": [],
   "source": [
    "df= pd.read_csv('ElectricCarData_Clean.csv')"
   ]
  },
  {
   "cell_type": "code",
   "execution_count": null,
   "id": "30163e40",
   "metadata": {},
   "outputs": [],
   "source": [
    "df = pd.read_csv('data.csv')\n",
    "df.drop('Unnamed: 0', axis=1, inplace=True)\n",
    "df['inr(10e3)'] = df['PriceEuro']*0.08320\n",
    "df['RapidCharge'].replace(to_replace=['No','Yes'],value=[0, 1],inplace=True)\n",
    "df.head()"
   ]
  },
  {
   "cell_type": "code",
   "execution_count": null,
   "id": "3a4d4881",
   "metadata": {},
   "outputs": [],
   "source": [
    "df.info()"
   ]
  },
  {
   "cell_type": "code",
   "execution_count": null,
   "id": "8204dcbc",
   "metadata": {},
   "outputs": [],
   "source": [
    "df[(df['Brand'] == 'Tesla ') | (df['Brand'] == 'BMW ')]"
   ]
  },
  {
   "cell_type": "code",
   "execution_count": null,
   "id": "52114adb",
   "metadata": {},
   "outputs": [],
   "source": [
    "df.isnull().sum()"
   ]
  },
  {
   "cell_type": "code",
   "execution_count": null,
   "id": "a02c1f8c",
   "metadata": {},
   "outputs": [],
   "source": [
    "df.describe()"
   ]
  },
  {
   "cell_type": "code",
   "execution_count": null,
   "id": "6d81cb2a",
   "metadata": {},
   "outputs": [],
   "source": [
    "fig = px.bar(df,x='AccelSec',y = 'Brand',color = 'Brand',title = 'Which car has fastest accelaration?',labels = {'x':'Accelaration','y':'Car Brands'})\n",
    "pio.show(fig)"
   ]
  },
  {
   "cell_type": "code",
   "execution_count": null,
   "id": "e919a331",
   "metadata": {},
   "outputs": [],
   "source": [
    "df['inr(10e3)'].plot(figsize = (12,8),title='Car Price',xlabel = 'No. of Samples',ylabel = 'Car Price',color = 'red')"
   ]
  },
  {
   "cell_type": "code",
   "execution_count": null,
   "id": "945690e8",
   "metadata": {},
   "outputs": [],
   "source": [
    "df['inr(10e3)'].plot(figsize = (12,8),title='Car Price',xlabel = 'No. of Samples',ylabel = 'Car Price',color = 'red')"
   ]
  },
  {
   "cell_type": "code",
   "execution_count": null,
   "id": "0fd78db6",
   "metadata": {},
   "outputs": [],
   "source": [
    "fig = px.pie(df,names = 'Brand',values = 'inr(10e3)')\n",
    "pio.show(fig)"
   ]
  },
  {
   "cell_type": "code",
   "execution_count": null,
   "id": "bd236fc8",
   "metadata": {},
   "outputs": [],
   "source": [
    "fig = px.scatter_3d(df,x = 'Brand',y = 'Seats',z = 'Segment',color='Brand')"
   ]
  },
  {
   "cell_type": "code",
   "execution_count": null,
   "id": "af75d67e",
   "metadata": {},
   "outputs": [],
   "source": [
    "fig = px.scatter_3d(df,x = 'Brand',y = 'AccelSec',z = 'inr(10e3)',color = 'Brand')"
   ]
  },
  {
   "cell_type": "code",
   "execution_count": null,
   "id": "3f001ea9",
   "metadata": {},
   "outputs": [],
   "source": [
    "fig = px.box(df,x='RapidCharge',y = 'inr(10e3)',color = 'RapidCharge',points='all')\n",
    "pio.show(fig)````"
   ]
  },
  {
   "cell_type": "code",
   "execution_count": null,
   "id": "f2c21a1d",
   "metadata": {},
   "outputs": [],
   "source": [
    "fig = px.scatter(df,x = 'Brand',y = 'Range_Km',size='Seats',color = 'Brand',hover_data=['RapidCharge','inr(10e3)'])\n",
    "pio.show(fig)"
   ]
  },
  {
   "cell_type": "code",
   "execution_count": null,
   "id": "7186a862",
   "metadata": {},
   "outputs": [],
   "source": [
    "sb.pairplot(df,hue='RapidCharge')"
   ]
  },
  {
   "cell_type": "code",
   "execution_count": null,
   "id": "a335723a",
   "metadata": {},
   "outputs": [],
   "source": [
    "ax= plt.figure(figsize=(15,8))\n",
    "sb.heatmap(df.corr(),linewidths=1,linecolor='white',annot=True)"
   ]
  },
  {
   "cell_type": "code",
   "execution_count": null,
   "id": "b415c77e",
   "metadata": {},
   "outputs": [],
   "source": [
    "ax= plt.figure(figsize=(20,5))\n",
    "sb.barplot(x='Brand',y=a,data=df)\n",
    "plt.grid(axis='y')\n",
    "plt.title('Brands in the datset')\n",
    "plt.xlabel('Brand')\n",
    "plt.ylabel('Frequency')\n",
    "plt.xticks(rotation=45)"
   ]
  },
  {
   "cell_type": "code",
   "execution_count": null,
   "id": "e7497240",
   "metadata": {},
   "outputs": [],
   "source": [
    "ax= plt.figure(figsize=(20,5))\n",
    "sb.barplot(x='Brand',y='TopSpeed_KmH',data=df,palette='Paired')\n",
    "plt.grid(axis='y')\n",
    "plt.title('Top Speed achieved by a brand')\n",
    "plt.xlabel('Brand')\n",
    "plt.ylabel('Top Speed')\n",
    "plt.xticks(rotation=45)"
   ]
  },
  {
   "cell_type": "code",
   "execution_count": null,
   "id": "f2526999",
   "metadata": {},
   "outputs": [],
   "source": [
    "ax= plt.figure(figsize=(20,5))\n",
    "sb.barplot(x='Brand',y='Range_Km',data=df,palette='tab10')\n",
    "plt.grid(axis='y')\n",
    "plt.title('Maximum Range achieved by a brand')\n",
    "plt.xlabel('Brand')\n",
    "plt.ylabel('Range')\n",
    "plt.xticks(rotation=45"
   ]
  },
  {
   "cell_type": "code",
   "execution_count": null,
   "id": "888eeadd",
   "metadata": {},
   "outputs": [],
   "source": [
    "ax= plt.figure(figsize=(20,5))\n",
    "sb.barplot(x='Brand',y='Efficiency_WhKm',data=df,palette='hls')\n",
    "plt.grid(axis='y')\n",
    "plt.title('Efficiency achieved by a brand')\n",
    "plt.xlabel('Brand')\n",
    "plt.ylabel('Efficiency')\n",
    "plt.xticks(rotation=45)"
   ]
  },
  {
   "cell_type": "code",
   "execution_count": null,
   "id": "7e53b86f",
   "metadata": {},
   "outputs": [],
   "source": [
    "ax= plt.figure(figsize=(20,5))\n",
    "sb.barplot(x='Brand',y='Seats',data=df,palette='husl')\n",
    "plt.grid(axis='y')\n",
    "plt.title('Seats in a car')\n",
    "plt.xlabel('Brand')\n",
    "plt.ylabel('Seats')\n",
    "plt.xticks(rotation=45)"
   ]
  },
  {
   "cell_type": "code",
   "execution_count": null,
   "id": "6fe1ce4b",
   "metadata": {},
   "outputs": [],
   "source": [
    "ax= plt.figure(figsize=(20,5))\n",
    "sb.barplot(x='Brand',y='inr(10e3)',data=df,palette='Set2')\n",
    "plt.title('Price of a Car')\n",
    "plt.xlabel('Price in INR')\n",
    "plt.grid(axis='y')\n",
    "plt.ylabel('Frequency')\n",
    "plt.xticks(rotation=45)"
   ]
  },
  {
   "cell_type": "code",
   "execution_count": null,
   "id": "8b0e5e69",
   "metadata": {},
   "outputs": [],
   "source": [
    "df['PlugType'].value_counts().plot.pie(figsize=(8,15),autopct='%.0f%%',explode=(.1,.1,.1,.1))\n",
    "plt.title('Plug Type')"
   ]
  },
  {
   "cell_type": "code",
   "execution_count": null,
   "id": "ad066241",
   "metadata": {},
   "outputs": [],
   "source": [
    "df['BodyStyle'].value_counts().plot.pie(figsize=(8,15),autopct='%.0f%%',explode=(0.1,0.1,0.1,0.1,0.1,0.1,0.1,0.1,0.1))\n",
    "plt.title('Body Style')"
   ]
  },
  {
   "cell_type": "code",
   "execution_count": null,
   "id": "a0950b65",
   "metadata": {},
   "outputs": [],
   "source": [
    "df['Segment'].value_counts().plot.pie(figsize=(8,15),autopct='%.0f%%',explode=(0.1,0.1,0.1,0.1,0.1,0.1,0.1,0.1))\n",
    "plt.title('Segment')"
   ]
  },
  {
   "cell_type": "code",
   "execution_count": null,
   "id": "f71a6d5d",
   "metadata": {},
   "outputs": [],
   "source": [
    "df['Seats'].value_counts().plot.pie(figsize=(8,15),autopct='%.0f%%',explode=(0.1,0.1,0.1,0.1,0.1))\n",
    "plt.title('Seats')"
   ]
  },
  {
   "cell_type": "code",
   "execution_count": null,
   "id": "53bbe764",
   "metadata": {},
   "outputs": [],
   "source": [
    "df3= df[[\"TopSpeed_KmH\", \"inr(10e3)\"]].groupby(\"TopSpeed_KmH\").count()\n",
    "df4= df[[\"Range_Km\", \"inr(10e3)\"]].groupby(\"Range_Km\").count()\n",
    "df5= df[[\"Range_Km\", \"TopSpeed_KmH\"]].groupby(\"Range_Km\").count()\n",
    "df5.head()"
   ]
  },
  {
   "cell_type": "code",
   "execution_count": null,
   "id": "b881f74c",
   "metadata": {},
   "outputs": [],
   "source": [
    "plt.figure(figsize=(10,7))\n",
    "plt.title('Cost based on top speed')\n",
    "plt.pie(x=df3[\"inr(10e3)\"],labels=df3.index,autopct='%1.0f%%')\n",
    "plt.show("
   ]
  },
  {
   "cell_type": "code",
   "execution_count": null,
   "id": "82b13d6c",
   "metadata": {},
   "outputs": [],
   "source": [
    "plt.figure(figsize=(10,7))\n",
    "plt.title('Cost based on Maximum Range')\n",
    "plt.pie(x=df4[\"inr(10e3)\"],labels=df4.index,autopct='%1.0f%%')\n",
    "plt.show()"
   ]
  },
  {
   "cell_type": "code",
   "execution_count": null,
   "id": "f2a565b6",
   "metadata": {},
   "outputs": [],
   "source": [
    "plt.figure(figsize=(10,7))\n",
    "plt.title('Top Speeds based on Maximum Range')\n",
    "plt.pie(x=df5[\"TopSpeed_KmH\"],labels=df5.index,autopct='%1.0f%%')\n",
    "plt.show()"
   ]
  },
  {
   "cell_type": "code",
   "execution_count": null,
   "id": "c8239d79",
   "metadata": {},
   "outputs": [],
   "source": [
    "df['PowerTrain'].replace(to_replace=['RWD','AWD','FWD'],value=[0, 2,1],inplace=True)\n",
    "x=df[['AccelSec','Range_Km','TopSpeed_KmH','Efficiency_WhKm', 'RapidCharge','PowerTrain']]\n",
    "y=df['PriceEuro']"
   ]
  },
  {
   "cell_type": "code",
   "execution_count": null,
   "id": "8cf2cfce",
   "metadata": {},
   "outputs": [],
   "source": [
    "x= sm.add_constant(x)\n",
    "results = sm.OLS(y,x)"
   ]
  },
  {
   "cell_type": "code",
   "execution_count": null,
   "id": "07290da2",
   "metadata": {},
   "outputs": [],
   "source": [
    "model=results.fit()\n",
    "model.summary()"
   ]
  },
  {
   "cell_type": "code",
   "execution_count": null,
   "id": "086698df",
   "metadata": {},
   "outputs": [],
   "source": [
    "X_train, X_test, y_train, y_test = train_test_split(x, y, test_size=0.3,random_state=365)"
   ]
  },
  {
   "cell_type": "code",
   "execution_count": null,
   "id": "3d9bfac0",
   "metadata": {},
   "outputs": [],
   "source": [
    "lr= LinearRegression()\n",
    "lr.fit(X_train, y_train)\n",
    "pred = lr.predict(X_test)"
   ]
  },
  {
   "cell_type": "code",
   "execution_count": null,
   "id": "9f8b0471",
   "metadata": {},
   "outputs": [],
   "source": [
    "r2=(r2_score(y_test,pred))\n",
    "print(r2*100)"
   ]
  },
  {
   "cell_type": "code",
   "execution_count": null,
   "id": "78a57848",
   "metadata": {},
   "outputs": [],
   "source": [
    "y1=df[['RapidCharge']]\n",
    "x1=df[['PriceEuro']]"
   ]
  },
  {
   "cell_type": "code",
   "execution_count": null,
   "id": "859e176e",
   "metadata": {},
   "outputs": [],
   "source": [
    "X1_train, X1_test, y1_train, y1_test = train_test_split(x1, y1, test_size=0.2,random_state=365)"
   ]
  },
  {
   "cell_type": "code",
   "execution_count": null,
   "id": "caf33c4f",
   "metadata": {},
   "outputs": [],
   "source": [
    "log= LogisticRegression()\n",
    "log.fit(X1_train, y1_train)\n",
    "pred1 = log.predict(X1_test)\n",
    "pred1"
   ]
  },
  {
   "cell_type": "code",
   "execution_count": null,
   "id": "38d0b155",
   "metadata": {},
   "outputs": [],
   "source": [
    "cm = confusion_matrix(y1_test, pred1)\n",
    "cm"
   ]
  },
  {
   "cell_type": "code",
   "execution_count": null,
   "id": "2d6f2333",
   "metadata": {},
   "outputs": [],
   "source": [
    "ax=plt.subplots(figsize=(15,8))\n",
    "sb.stripplot(x='TopSpeed_KmH', y='FastCharge_KmH', data=df, jitter=True)"
   ]
  },
  {
   "cell_type": "code",
   "execution_count": null,
   "id": "bbcb25e4",
   "metadata": {},
   "outputs": [],
   "source": [
    "ax=plt.subplots(figsize=(15,8))\n",
    "sb.stripplot(x='TopSpeed_KmH', y='Efficiency_WhKm', data=df, jitter=True)"
   ]
  },
  {
   "cell_type": "code",
   "execution_count": null,
   "id": "61767295",
   "metadata": {},
   "outputs": [],
   "source": [
    "features = ['AccelSec','TopSpeed_KmH','Efficiency_WhKm','FastCharge_KmH', 'RapidCharge','Range_Km', 'Seats', 'inr(10e3)','PowerTrain']\n",
    "# Separating out the features\n",
    "x = df.loc[:, features].values\n",
    "x = StandardScaler().fit_transform(x)"
   ]
  },
  {
   "cell_type": "code",
   "execution_count": null,
   "id": "f536a937",
   "metadata": {},
   "outputs": [],
   "source": [
    "pca = PCA(n_components=9)\n",
    "t = pca.fit_transform(x)\n",
    "data2 = pd.DataFrame(t, columns=['PC1', 'PC2','PC3','PC4','Pc5','PC6', 'PC7', 'PC8','PC9'])\n",
    "data2"
   ]
  },
  {
   "cell_type": "code",
   "execution_count": null,
   "id": "7c46d637",
   "metadata": {},
   "outputs": [],
   "source": [
    "df_9=data2.iloc[:,:9]\n",
    "df_9.head(3)"
   ]
  },
  {
   "cell_type": "code",
   "execution_count": null,
   "id": "de2684e8",
   "metadata": {},
   "outputs": [],
   "source": [
    "# correlation coefficient between original variables and the component\n",
    "loadings = pca.components_\n",
    "num_pc = pca.n_features_\n",
    "pc_list = [\"PC\"+str(i) for i in list(range(1, num_pc+1))]\n",
    "loadings_df = pd.DataFrame.from_dict(dict(zip(pc_list, loadings)))\n",
    "loadings_df['variable'] = df_9.columns.values\n",
    "loadings_df = loadings_df.set_index('variable')\n",
    "loadings_df"
   ]
  },
  {
   "cell_type": "code",
   "execution_count": null,
   "id": "9a6330c9",
   "metadata": {},
   "outputs": [],
   "source": [
    "#Correlation matrix plot for loadings \n",
    "plt.rcParams['figure.figsize'] = (20,15)\n",
    "ax = sb.heatmap(loadings_df, annot=True, cmap='Spectral')\n",
    "plt.show()"
   ]
  },
  {
   "cell_type": "code",
   "execution_count": null,
   "id": "480b7a52",
   "metadata": {},
   "outputs": [],
   "source": [
    "linked = linkage(data2, 'complete')\n",
    "plt.figure(figsize=(13, 9))\n",
    "dendrogram(linked, orientation='top')\n",
    "plt.show()"
   ]
  },
  {
   "cell_type": "code",
   "execution_count": null,
   "id": "de6c7bdd",
   "metadata": {},
   "outputs": [],
   "source": [
    "PC_values = np.arange(pca.n_components_) + 1\n",
    "plt.plot(PC_values, pca.explained_variance_ratio_, 'o-', linewidth=2, color='blue')\n",
    "plt.title('Scree Plot')\n",
    "plt.xlabel('Principal Component')\n",
    "plt.ylabel('Variance Explained')\n",
    "plt.show()"
   ]
  },
  {
   "cell_type": "code",
   "execution_count": null,
   "id": "ba69b4b4",
   "metadata": {},
   "outputs": [],
   "source": [
    "model = KMeans(random_state=40)\n",
    "visualizer = KElbowVisualizer(model, k=(2,9), metric='distortion', timings=True)\n",
    "visualizer.fit(t)        # Fit the data to the visualizer\n",
    "visualizer.show()        # Finalize and render the figure"
   ]
  },
  {
   "cell_type": "code",
   "execution_count": null,
   "id": "c22ef761",
   "metadata": {},
   "outputs": [],
   "source": [
    "model = KMeans(random_state=40)\n",
    "visualizer = KElbowVisualizer(model, k=(2,9), metric='silhouette', timings=True)\n",
    "visualizer.fit(t)        # Fit the data to the visualizer\n",
    "visualizer.show()        # Finalize and render the figure"
   ]
  },
  {
   "cell_type": "code",
   "execution_count": null,
   "id": "4a907a98",
   "metadata": {},
   "outputs": [],
   "source": [
    "model = KMeans(random_state=40)\n",
    "visualizer = KElbowVisualizer(model, k=(2,9), metric='calinski_harabasz', timings=True)\n",
    "visualizer.fit(t)        # Fit the data to the visualizer\n",
    "visualizer.show()        # Finalize and render the figure"
   ]
  },
  {
   "cell_type": "code",
   "execution_count": null,
   "id": "e565b640",
   "metadata": {},
   "outputs": [],
   "source": [
    "#K-means clustering \n",
    "\n",
    "kmeans = KMeans(n_clusters=4, init='k-means++', random_state=0).fit(t)\n",
    "df['cluster_num'] = kmeans.labels_ #adding to df\n",
    "print (kmeans.labels_) #Label assigned for each data point\n",
    "print (kmeans.inertia_) #gives within-cluster sum of squares. \n",
    "print(kmeans.n_iter_) #number of iterations that k-means algorithm runs to get a minimum within-cluster sum of squares\n",
    "print(kmeans.cluster_centers_) #Location of the centroids on each cluster."
   ]
  },
  {
   "cell_type": "code",
   "execution_count": null,
   "id": "2c546a99",
   "metadata": {},
   "outputs": [],
   "source": [
    "#To see each cluster size\n",
    "\n",
    "Counter(kmeans.labels_)"
   ]
  },
  {
   "cell_type": "code",
   "execution_count": null,
   "id": "141aa2f0",
   "metadata": {},
   "outputs": [],
   "source": [
    "#Visulazing clusters\n",
    "sb.scatterplot(data=data2, x=\"PC1\", y=\"PC9\", hue=kmeans.labels_)\n",
    "plt.scatter(kmeans.cluster_centers_[:,0], kmeans.cluster_centers_[:,1], \n",
    "            marker=\"X\", c=\"r\", s=80, label=\"centroids\")\n",
    "plt.legend()\n",
    "plt.show()"
   ]
  },
  {
   "cell_type": "code",
   "execution_count": null,
   "id": "fa5dc88b",
   "metadata": {},
   "outputs": [],
   "source": [
    "X=data2[['PC1', 'PC2','PC3','PC4','Pc5','PC6', 'PC7','PC8','PC9']]\n",
    "y=df['inr(10e3)']"
   ]
  },
  {
   "cell_type": "code",
   "execution_count": null,
   "id": "3385c8ea",
   "metadata": {},
   "outputs": [],
   "source": [
    "X_train, X_test, y_train, y_test = train_test_split(X, y,test_size=0.4, random_state=101)\n",
    "lm=LinearRegression().fit(X_train,y_train)"
   ]
  },
  {
   "cell_type": "code",
   "execution_count": null,
   "id": "bea251b1",
   "metadata": {},
   "outputs": [],
   "source": [
    "print(lm.intercept_)"
   ]
  },
  {
   "cell_type": "code",
   "execution_count": null,
   "id": "0001e3e1",
   "metadata": {},
   "outputs": [],
   "source": [
    "lm.coef_"
   ]
  },
  {
   "cell_type": "code",
   "execution_count": null,
   "id": "76fe2a82",
   "metadata": {},
   "outputs": [],
   "source": [
    "X_train.columns"
   ]
  },
  {
   "cell_type": "code",
   "execution_count": null,
   "id": "774cae1a",
   "metadata": {},
   "outputs": [],
   "source": [
    "cdf=pd.DataFrame(lm.coef_, X.columns, columns=['Coeff'])\n",
    "cdf"
   ]
  },
  {
   "cell_type": "code",
   "execution_count": null,
   "id": "a51c8a0f",
   "metadata": {},
   "outputs": [],
   "source": [
    "predictions=lm.predict(X_test)\n",
    "predictions"
   ]
  },
  {
   "cell_type": "code",
   "execution_count": null,
   "id": "333b7dec",
   "metadata": {},
   "outputs": [],
   "source": [
    "y_test"
   ]
  },
  {
   "cell_type": "code",
   "execution_count": null,
   "id": "2a4a2927",
   "metadata": {},
   "outputs": [],
   "source": [
    "plt.scatter(y_test, predictions)"
   ]
  },
  {
   "cell_type": "code",
   "execution_count": null,
   "id": "bab70817",
   "metadata": {},
   "outputs": [],
   "source": [
    "#Residual histogram plot\n",
    "sb.distplot((y_test-predictions))"
   ]
  },
  {
   "cell_type": "code",
   "execution_count": null,
   "id": "48a9bde4",
   "metadata": {},
   "outputs": [],
   "source": [
    "print('MAE:',metrics.mean_absolute_error(y_test,predictions))\n",
    "print('MSE:',metrics.mean_squared_error(y_test,predictions))\n",
    "print('RMSE:',np.sqrt(metrics.mean_squared_error(y_test,predictions)))"
   ]
  },
  {
   "cell_type": "code",
   "execution_count": null,
   "id": "900f8bd6",
   "metadata": {},
   "outputs": [],
   "source": [
    "metrics.mean_absolute_error(y_test,predictions)"
   ]
  },
  {
   "cell_type": "code",
   "execution_count": null,
   "id": "051805d9",
   "metadata": {},
   "outputs": [],
   "source": [
    "metrics.mean_squared_error(y_test,predictions)"
   ]
  },
  {
   "cell_type": "code",
   "execution_count": null,
   "id": "8bb8d046",
   "metadata": {},
   "outputs": [],
   "source": [
    "np.sqrt(metrics.mean_squared_error(y_test,predictions))"
   ]
  },
  {
   "cell_type": "code",
   "execution_count": null,
   "id": "a44456ba",
   "metadata": {},
   "outputs": [],
   "source": []
  }
 ],
 "metadata": {
  "kernelspec": {
   "display_name": "Python 3 (ipykernel)",
   "language": "python",
   "name": "python3"
  },
  "language_info": {
   "codemirror_mode": {
    "name": "ipython",
    "version": 3
   },
   "file_extension": ".py",
   "mimetype": "text/x-python",
   "name": "python",
   "nbconvert_exporter": "python",
   "pygments_lexer": "ipython3",
   "version": "3.9.7"
  }
 },
 "nbformat": 4,
 "nbformat_minor": 5
}
